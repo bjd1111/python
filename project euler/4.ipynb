{
 "cells": [
  {
   "cell_type": "code",
   "execution_count": 8,
   "metadata": {
    "collapsed": false
   },
   "outputs": [
    {
     "name": "stdout",
     "output_type": "stream",
     "text": [
      " 906609 (993, 913)\n"
     ]
    }
   ],
   "source": [
    "number = {}\n",
    "for i in xrange(100,1000):\n",
    "    for j in xrange(100,1000):\n",
    "        n = str(i*j)\n",
    "        if len(n)%2 ==0:\n",
    "        \n",
    "            if n[0:3] == n[::-1][:3]:\n",
    "                number[n]=(i,j)\n",
    "            \n",
    "        if len(n)%2 == 1:\n",
    "            if n[0:2] == n[::-1][:2]:\n",
    "                number[n]=(i,j)\n",
    "\n",
    "max_num = max(int(n) for n in number)\n",
    "print max_num, number[str(max_num)]"
   ]
  },
  {
   "cell_type": "code",
   "execution_count": null,
   "metadata": {
    "collapsed": true
   },
   "outputs": [],
   "source": []
  }
 ],
 "metadata": {
  "kernelspec": {
   "display_name": "Python 2",
   "language": "python",
   "name": "python2"
  },
  "language_info": {
   "codemirror_mode": {
    "name": "ipython",
    "version": 2
   },
   "file_extension": ".py",
   "mimetype": "text/x-python",
   "name": "python",
   "nbconvert_exporter": "python",
   "pygments_lexer": "ipython2",
   "version": "2.7.6"
  }
 },
 "nbformat": 4,
 "nbformat_minor": 0
}
