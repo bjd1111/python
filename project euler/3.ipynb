{
 "cells": [
  {
   "cell_type": "code",
   "execution_count": 39,
   "metadata": {
    "collapsed": false
   },
   "outputs": [
    {
     "name": "stdout",
     "output_type": "stream",
     "text": [
      "[1, 71, 839, 1471, 6857]\n",
      "max 6857\n"
     ]
    }
   ],
   "source": [
    "#The prime factors of 13195 are 5, 7, 13 and 29.\n",
    "\n",
    "#What is the largest prime factor of the number 600851475143 ?\n",
    "\n",
    "def factors(n):    \n",
    "\n",
    "    return reduce(list.__add__, \n",
    "                ([i, n//i] for i in range(1, int(n**0.5) + 1) if n % i == 0))\n",
    "\n",
    "\n",
    "\n",
    "n = 600851475143 \n",
    "#print factors(n)\n",
    "prime_factor = []\n",
    "for i in factors(n):\n",
    "    if len(factors(i))==2:\n",
    "        prime_factor.append(i)\n",
    "print prime_factor\n",
    "print 'max', max(prime_factor)"
   ]
  }
 ],
 "metadata": {
  "kernelspec": {
   "display_name": "Python 2",
   "language": "python",
   "name": "python2"
  },
  "language_info": {
   "codemirror_mode": {
    "name": "ipython",
    "version": 2
   },
   "file_extension": ".py",
   "mimetype": "text/x-python",
   "name": "python",
   "nbconvert_exporter": "python",
   "pygments_lexer": "ipython2",
   "version": "2.7.6"
  }
 },
 "nbformat": 4,
 "nbformat_minor": 0
}
